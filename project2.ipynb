{
 "cells": [
  {
   "cell_type": "code",
   "execution_count": 7,
   "metadata": {},
   "outputs": [],
   "source": [
    "import ngsolve\n",
    "from netgen.geom2d import unit_square\n",
    "import netgen.gui\n",
    "from netgen.meshing import *\n",
    "from ngsolve.webgui import Draw\n",
    "import numpy as np\n",
    "\n",
    "%gui tk"
   ]
  },
  {
   "cell_type": "code",
   "execution_count": 8,
   "metadata": {},
   "outputs": [],
   "source": [
    "# Defining constants\n",
    "\n",
    "epsilon = 0.02\n",
    "gamma = 50\n",
    "M = 2\n",
    "\n",
    "h_max = 0.1\n",
    "tau = 0.1"
   ]
  },
  {
   "cell_type": "code",
   "execution_count": 9,
   "metadata": {},
   "outputs": [],
   "source": [
    "# Setting up the mesh\n",
    "\n",
    "ngmesh = Mesh(dim=2)\n",
    "\n",
    "N= int(1/h_max)\n",
    "\n",
    "\"\"\"\n",
    "Code for the square mesh taken from the documentation page\n",
    "https://docu.ngsolve.org/latest/i-tutorials/unit-4.3-manualmesh/manualmeshing.html\n",
    "\"\"\"\n",
    "\n",
    "\n",
    "pnums = []\n",
    "for i in range(N + 1):\n",
    "    for j in range(N + 1):\n",
    "        pnums.append(ngmesh.Add(MeshPoint(Pnt(i / N, j / N, 0))))\n",
    "\n",
    "idx_dom = ngmesh.AddRegion(\"mat\", dim=2)\n",
    "for j in range(N):\n",
    "    for i in range(N):\n",
    "        ngmesh.Add(Element2D(idx_dom, [pnums[i + j * (N + 1)],\n",
    "                               pnums[i + (j + 1) * (N + 1)],\n",
    "                               pnums[i + 1 + (j + 1) * (N + 1)],\n",
    "                               pnums[i + 1 + j * (N + 1)]]))\n",
    "        \n",
    "# horizontal boundaries\n",
    "for i in range(N):\n",
    "   ngmesh.Add(Element1D([pnums[N + i * (N + 1)],\n",
    "                       pnums[N + (i + 1) * (N + 1)]], index=1))\n",
    "   ngmesh.Add(Element1D([pnums[0 + i * (N + 1)], pnums[0 + (i + 1) * (N + 1)]], index=1))\n",
    "\n",
    "# vertical boundaries\n",
    "for i in range(N):\n",
    "   ngmesh.Add(Element1D([pnums[i], pnums[i + 1]], index=2))\n",
    "   ngmesh.Add(Element1D([pnums[i + N * (N + 1)], pnums[i + 1 + N * (N + 1)]], index=2))\n"
   ]
  },
  {
   "cell_type": "code",
   "execution_count": null,
   "metadata": {},
   "outputs": [],
   "source": [
    "mesh = ngsolve.Mesh(ngmesh)\n",
    "Draw(mesh)"
   ]
  },
  {
   "cell_type": "code",
   "execution_count": 44,
   "metadata": {},
   "outputs": [],
   "source": [
    "# Defining finite element space\n",
    "\n",
    "V_phi = ngsolve.H1(mesh,order=1)\n",
    "V_mu  = ngsolve.H1(mesh,order=1)\n",
    "\n",
    "phi_n, v = V_phi.TnT()\n",
    "mu_n, w = V_mu.TnT()\n",
    "\n",
    "gfu = ngsolve.GridFunction(V_phi)\n",
    "\n"
   ]
  },
  {
   "cell_type": "code",
   "execution_count": 54,
   "metadata": {},
   "outputs": [],
   "source": [
    "# Initialisation of phi_0\n",
    "\n",
    "phi_0 = np.random.uniform(low = -1, high = 1, size = mesh.nv)\n",
    "rand_expr = ngsolve.GridFunction(V_phi)\n",
    "for i in range(mesh.nv):\n",
    "    rand_expr.vec[i] = phi_0[i]\n",
    "\n",
    "gfu.Set(rand_expr) \n"
   ]
  },
  {
   "cell_type": "code",
   "execution_count": null,
   "metadata": {},
   "outputs": [],
   "source": [
    "Draw(gfu)"
   ]
  }
 ],
 "metadata": {
  "kernelspec": {
   "display_name": "base",
   "language": "python",
   "name": "python3"
  },
  "language_info": {
   "codemirror_mode": {
    "name": "ipython",
    "version": 3
   },
   "file_extension": ".py",
   "mimetype": "text/x-python",
   "name": "python",
   "nbconvert_exporter": "python",
   "pygments_lexer": "ipython3",
   "version": "3.11.7"
  }
 },
 "nbformat": 4,
 "nbformat_minor": 2
}
